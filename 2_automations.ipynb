{
 "cells": [
  {
   "cell_type": "markdown",
   "id": "b10e739c",
   "metadata": {},
   "source": [
    "<img src=\"https://uploads-ssl.webflow.com/64b58e06654493327b4a59ee/6508a6973bb25aebe94d4fde_tilebox-color.svg\" alt=\"Tilebox\" width=\"200\"/>\n",
    "\n",
    "# Automations\n",
    "\n",
    "This is a starter showcasing the Tilebox Workflows automations."
   ]
  },
  {
   "cell_type": "code",
   "execution_count": 1,
   "id": "4eab1d8f",
   "metadata": {},
   "outputs": [],
   "source": [
    "import os\n",
    "\n",
    "import dotenv\n",
    "from tilebox.workflows import Client as WorkflowsClient, ExecutionContext\n",
    "from tilebox.workflows.cache import LocalFileSystemCache\n",
    "from tilebox.workflows.automations import CronTask"
   ]
  },
  {
   "cell_type": "markdown",
   "id": "f6b0890f",
   "metadata": {},
   "source": [
    "Verify that all the environment variables are set and that the cluster exists. Clusters can be create on the [Tilebox Console](https://console.tilebox.com/workflows/clusters)"
   ]
  },
  {
   "cell_type": "code",
   "execution_count": 3,
   "id": "72dd01cf",
   "metadata": {},
   "outputs": [],
   "source": [
    "dotenv.load_dotenv()\n",
    "\n",
    "if os.getenv(\"TILEBOX_API_KEY\") is None:\n",
    "    raise ValueError(\"TILEBOX_API_KEY environment variable is not set\")\n",
    "cluster = os.getenv(\"TILEBOX_CLUSTER\")\n",
    "if cluster is None:\n",
    "    raise ValueError(\"TILEBOX_CLUSTER environment variable is not set\")"
   ]
  },
  {
   "cell_type": "code",
   "execution_count": 4,
   "id": "ee42ac89",
   "metadata": {},
   "outputs": [],
   "source": [
    "workflowsClient = WorkflowsClient()\n",
    "\n",
    "clusters = workflowsClient.clusters()\n",
    "cluster = clusters.find(cluster)\n",
    "if cluster is None:\n",
    "    raise ValueError(f\"Cluster {cluster} not found\")"
   ]
  },
  {
   "cell_type": "markdown",
   "id": "53788be7",
   "metadata": {},
   "source": [
    "### Creating a service that's running on a schedule\n",
    "\n",
    "Define a cron task by extending the `CronTask` class."
   ]
  },
  {
   "cell_type": "code",
   "execution_count": 5,
   "id": "2547824c",
   "metadata": {},
   "outputs": [],
   "source": [
    "class MyCronTask(CronTask):\n",
    "    message: str\n",
    "\n",
    "    def execute(self, context: ExecutionContext) -> None:\n",
    "        print(f\"Hello {self.message} from a Cron Task!\")\n",
    "        # self.trigger is an attribute of the CronTask class,\n",
    "        # which contains information about the trigger event\n",
    "        # that caused this task to be submitted as part of a job\n",
    "        print(f\"This task was triggered at {self.trigger.time}\")\n"
   ]
  },
  {
   "cell_type": "markdown",
   "id": "257f6c33",
   "metadata": {},
   "source": [
    "Create an automation that runs every minute and prints \"Hello World!\""
   ]
  },
  {
   "cell_type": "code",
   "execution_count": 6,
   "id": "0bd1fa23",
   "metadata": {},
   "outputs": [],
   "source": [
    "automations = workflowsClient.automations()"
   ]
  },
  {
   "cell_type": "code",
   "execution_count": 7,
   "id": "2bc15e91",
   "metadata": {},
   "outputs": [],
   "source": [
    "# Set all the parameters for the task\n",
    "task = MyCronTask(message=\"World\")\n",
    "\n",
    "cron_automation = automations.create_cron_automation(\n",
    "    name=\"my-cron-automation\",  # name of the cron automation\n",
    "    task=task,  # the task (and its input parameters) to run repeatedly\n",
    "    cron_schedules=[\n",
    "        \"* * * * *\",  # run every minute\n",
    "        # useful link for cron expressions: https://crontab.guru/\n",
    "    ],\n",
    "    cluster=cluster,  # cluster to submit jobs to\n",
    ")"
   ]
  },
  {
   "cell_type": "markdown",
   "id": "15967e6b",
   "metadata": {},
   "source": [
    "Start a workflow runner right here"
   ]
  },
  {
   "cell_type": "code",
   "execution_count": null,
   "id": "757267a7",
   "metadata": {},
   "outputs": [],
   "source": [
    "runner = workflowsClient.runner(\n",
    "    cluster,\n",
    "    tasks=[ # which tasks can be executed by the runner\n",
    "        MyCronTask,\n",
    "    ],\n",
    "    cache=LocalFileSystemCache(),\n",
    ")\n",
    "\n",
    "runner.run_forever()"
   ]
  },
  {
   "cell_type": "markdown",
   "id": "fb748c46",
   "metadata": {},
   "source": [
    "Submit a cron task manually"
   ]
  },
  {
   "cell_type": "code",
   "execution_count": 12,
   "id": "ca9ac206",
   "metadata": {},
   "outputs": [
    {
     "data": {
      "text/plain": [
       "Job(id=UUID('0196da04-6553-9341-ae7d-ad35ac392055'), name='manual-cron-job', trace_parent='00-66bbf5847a28607d6923feaa42bb6a76-9468412114b35a34-01', state=<JobState.QUEUED: 1>, canceled=False)"
      ]
     },
     "execution_count": 12,
     "metadata": {},
     "output_type": "execute_result"
    }
   ],
   "source": [
    "jobs = workflowsClient.jobs()\n",
    "\n",
    "# Set all the parameters for the task\n",
    "task = MyCronTask(message=\"Hello\")\n",
    "\n",
    "# Submit a job with the task\n",
    "jobs.submit(\"manual-cron-job\", task.once(), cluster=cluster)"
   ]
  },
  {
   "cell_type": "code",
   "execution_count": 13,
   "id": "c8d2a472",
   "metadata": {},
   "outputs": [
    {
     "name": "stdout",
     "output_type": "stream",
     "text": [
      "Hello Hello from a Cron Task!\n",
      "This task was triggered at 2025-05-16 16:54:03.295816+00:00\n"
     ]
    }
   ],
   "source": [
    "runner.run_all()"
   ]
  },
  {
   "cell_type": "markdown",
   "id": "12bcd046",
   "metadata": {},
   "source": [
    "### Creating an on-demand, customer-triggered service"
   ]
  },
  {
   "cell_type": "code",
   "execution_count": 32,
   "id": "906c88ea",
   "metadata": {},
   "outputs": [],
   "source": [
    "from shapely import MultiPolygon\n",
    "from tilebox.datasets import Client as DatasetsClient\n",
    "from tilebox.workflows import Task\n",
    "from shapely.geometry import shape\n",
    "import json\n",
    "\n",
    "dc = DatasetsClient()\n",
    "\n",
    "class OnDemandTask(Task):\n",
    "    aoi: str\n",
    "    start_date: str\n",
    "    end_date: str\n",
    "\n",
    "    def execute(self, context: ExecutionContext) -> None:\n",
    "\n",
    "        area = shape(json.loads(self.aoi))\n",
    "\n",
    "        client = dc\n",
    "        datasets = client.datasets()\n",
    "        sentinel2_msi = datasets.open_data.copernicus.sentinel2_msi\n",
    "        data = sentinel2_msi.collection(\"S2A_S2MSI2A\").query(\n",
    "            temporal_extent=(self.start_date, self.end_date),\n",
    "            spatial_extent=area,\n",
    "            show_progress=True,\n",
    "        )\n",
    "        print(\"Average cloud cover:\", data.cloud_cover.mean().values)"
   ]
  },
  {
   "cell_type": "code",
   "execution_count": 33,
   "id": "d39d5937",
   "metadata": {},
   "outputs": [
    {
     "data": {
      "text/plain": [
       "Job(id=UUID('0196da1e-e158-8e9e-74f5-48b442633e01'), name='manual-on-demand-job', trace_parent='00-362f628d4ae110f9480612c527273a11-30044f25f840516a-01', state=<JobState.QUEUED: 1>, canceled=False)"
      ]
     },
     "execution_count": 33,
     "metadata": {},
     "output_type": "execute_result"
    }
   ],
   "source": [
    "area = MultiPolygon(\n",
    "    [\n",
    "        (((11.26, 47.39), (11.12, 47.17), (11.37, 47.09), (11.69, 47.21), (11.64, 47.38), (11.26, 47.39)),),\n",
    "    ]\n",
    ")\n",
    "jobs.submit(\"manual-on-demand-job\", OnDemandTask(aoi=json.dumps(area.__geo_interface__), start_date=\"2025-04-01\", end_date=\"2025-05-01\"), cluster=cluster)"
   ]
  },
  {
   "cell_type": "code",
   "execution_count": 34,
   "id": "0b48e95c",
   "metadata": {},
   "outputs": [
    {
     "name": "stdout",
     "output_type": "stream",
     "text": [
      "Average cloud cover: 53.10338208333334\n"
     ]
    }
   ],
   "source": [
    "runner = workflowsClient.runner(\n",
    "    cluster,\n",
    "    tasks=[ # which tasks can be executed by the runner\n",
    "        OnDemandTask,\n",
    "    ],\n",
    "    cache=LocalFileSystemCache(),\n",
    ")\n",
    "\n",
    "runner.run_all()"
   ]
  },
  {
   "cell_type": "code",
   "execution_count": null,
   "id": "2e7dd954",
   "metadata": {},
   "outputs": [],
   "source": []
  }
 ],
 "metadata": {
  "kernelspec": {
   "display_name": ".venv",
   "language": "python",
   "name": "python3"
  },
  "language_info": {
   "codemirror_mode": {
    "name": "ipython",
    "version": 3
   },
   "file_extension": ".py",
   "mimetype": "text/x-python",
   "name": "python",
   "nbconvert_exporter": "python",
   "pygments_lexer": "ipython3",
   "version": "3.13.1"
  }
 },
 "nbformat": 4,
 "nbformat_minor": 5
}
