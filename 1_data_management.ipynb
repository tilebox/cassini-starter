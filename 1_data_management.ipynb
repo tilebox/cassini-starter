{
 "cells": [
  {
   "cell_type": "code",
   "execution_count": 2,
   "metadata": {},
   "outputs": [],
   "source": [
    "from shapely import MultiPolygon\n",
    "from tilebox.datasets import Client\n",
    "\n",
    "area = MultiPolygon(\n",
    "    [\n",
    "        (((11.26, 47.39), (11.12, 47.17), (11.37, 47.09), (11.69, 47.21), (11.64, 47.38), (11.26, 47.39)),),\n",
    "    ]\n",
    ")\n",
    "\n",
    "client = Client()\n",
    "datasets = client.datasets()\n",
    "sentinel2_msi = datasets.open_data.copernicus.sentinel2_msi\n",
    "data = sentinel2_msi.collection(\"S2A_S2MSI2A\").query(\n",
    "    temporal_extent=(\"2025-04-01\", \"2025-05-01\"),\n",
    "    spatial_extent=area,\n",
    "    show_progress=True,\n",
    ")"
   ]
  },
  {
   "cell_type": "code",
   "execution_count": 3,
   "metadata": {},
   "outputs": [
    {
     "data": {
      "text/plain": [
       "['DATASTRIP/DS_2APS_20250404T184313_S20250404T101510/MTD_DS.xml',\n",
       " 'DATASTRIP/DS_2APS_20250404T184313_S20250404T101510/QI_DATA/FORMAT_CORRECTNESS.xml',\n",
       " 'DATASTRIP/DS_2APS_20250404T184313_S20250404T101510/QI_DATA/GENERAL_QUALITY.xml',\n",
       " 'DATASTRIP/DS_2APS_20250404T184313_S20250404T101510/QI_DATA/GEOMETRIC_QUALITY.xml',\n",
       " 'DATASTRIP/DS_2APS_20250404T184313_S20250404T101510/QI_DATA/RADIOMETRIC_QUALITY.xml',\n",
       " 'DATASTRIP/DS_2APS_20250404T184313_S20250404T101510/QI_DATA/SENSOR_QUALITY.xml',\n",
       " 'GRANULE/L2A_T32TPT_A051099_20250404T101510/AUX_DATA/AUX_CAMSFO',\n",
       " 'GRANULE/L2A_T32TPT_A051099_20250404T101510/AUX_DATA/AUX_ECMWFT',\n",
       " 'GRANULE/L2A_T32TPT_A051099_20250404T101510/IMG_DATA/R10m/T32TPT_20250404T101041_AOT_10m.jp2',\n",
       " 'GRANULE/L2A_T32TPT_A051099_20250404T101510/IMG_DATA/R10m/T32TPT_20250404T101041_B02_10m.jp2',\n",
       " 'GRANULE/L2A_T32TPT_A051099_20250404T101510/IMG_DATA/R10m/T32TPT_20250404T101041_B03_10m.jp2',\n",
       " 'GRANULE/L2A_T32TPT_A051099_20250404T101510/IMG_DATA/R10m/T32TPT_20250404T101041_B04_10m.jp2',\n",
       " 'GRANULE/L2A_T32TPT_A051099_20250404T101510/IMG_DATA/R10m/T32TPT_20250404T101041_B08_10m.jp2',\n",
       " 'GRANULE/L2A_T32TPT_A051099_20250404T101510/IMG_DATA/R10m/T32TPT_20250404T101041_TCI_10m.jp2',\n",
       " 'GRANULE/L2A_T32TPT_A051099_20250404T101510/IMG_DATA/R10m/T32TPT_20250404T101041_WVP_10m.jp2',\n",
       " 'GRANULE/L2A_T32TPT_A051099_20250404T101510/IMG_DATA/R20m/T32TPT_20250404T101041_AOT_20m.jp2',\n",
       " 'GRANULE/L2A_T32TPT_A051099_20250404T101510/IMG_DATA/R20m/T32TPT_20250404T101041_B01_20m.jp2',\n",
       " 'GRANULE/L2A_T32TPT_A051099_20250404T101510/IMG_DATA/R20m/T32TPT_20250404T101041_B02_20m.jp2',\n",
       " 'GRANULE/L2A_T32TPT_A051099_20250404T101510/IMG_DATA/R20m/T32TPT_20250404T101041_B03_20m.jp2',\n",
       " 'GRANULE/L2A_T32TPT_A051099_20250404T101510/IMG_DATA/R20m/T32TPT_20250404T101041_B04_20m.jp2',\n",
       " 'GRANULE/L2A_T32TPT_A051099_20250404T101510/IMG_DATA/R20m/T32TPT_20250404T101041_B05_20m.jp2',\n",
       " 'GRANULE/L2A_T32TPT_A051099_20250404T101510/IMG_DATA/R20m/T32TPT_20250404T101041_B06_20m.jp2',\n",
       " 'GRANULE/L2A_T32TPT_A051099_20250404T101510/IMG_DATA/R20m/T32TPT_20250404T101041_B07_20m.jp2',\n",
       " 'GRANULE/L2A_T32TPT_A051099_20250404T101510/IMG_DATA/R20m/T32TPT_20250404T101041_B11_20m.jp2',\n",
       " 'GRANULE/L2A_T32TPT_A051099_20250404T101510/IMG_DATA/R20m/T32TPT_20250404T101041_B12_20m.jp2',\n",
       " 'GRANULE/L2A_T32TPT_A051099_20250404T101510/IMG_DATA/R20m/T32TPT_20250404T101041_B8A_20m.jp2',\n",
       " 'GRANULE/L2A_T32TPT_A051099_20250404T101510/IMG_DATA/R20m/T32TPT_20250404T101041_SCL_20m.jp2',\n",
       " 'GRANULE/L2A_T32TPT_A051099_20250404T101510/IMG_DATA/R20m/T32TPT_20250404T101041_TCI_20m.jp2',\n",
       " 'GRANULE/L2A_T32TPT_A051099_20250404T101510/IMG_DATA/R20m/T32TPT_20250404T101041_WVP_20m.jp2',\n",
       " 'GRANULE/L2A_T32TPT_A051099_20250404T101510/IMG_DATA/R60m/T32TPT_20250404T101041_AOT_60m.jp2',\n",
       " 'GRANULE/L2A_T32TPT_A051099_20250404T101510/IMG_DATA/R60m/T32TPT_20250404T101041_B01_60m.jp2',\n",
       " 'GRANULE/L2A_T32TPT_A051099_20250404T101510/IMG_DATA/R60m/T32TPT_20250404T101041_B02_60m.jp2',\n",
       " 'GRANULE/L2A_T32TPT_A051099_20250404T101510/IMG_DATA/R60m/T32TPT_20250404T101041_B03_60m.jp2',\n",
       " 'GRANULE/L2A_T32TPT_A051099_20250404T101510/IMG_DATA/R60m/T32TPT_20250404T101041_B04_60m.jp2',\n",
       " 'GRANULE/L2A_T32TPT_A051099_20250404T101510/IMG_DATA/R60m/T32TPT_20250404T101041_B05_60m.jp2',\n",
       " 'GRANULE/L2A_T32TPT_A051099_20250404T101510/IMG_DATA/R60m/T32TPT_20250404T101041_B06_60m.jp2',\n",
       " 'GRANULE/L2A_T32TPT_A051099_20250404T101510/IMG_DATA/R60m/T32TPT_20250404T101041_B07_60m.jp2',\n",
       " 'GRANULE/L2A_T32TPT_A051099_20250404T101510/IMG_DATA/R60m/T32TPT_20250404T101041_B09_60m.jp2',\n",
       " 'GRANULE/L2A_T32TPT_A051099_20250404T101510/IMG_DATA/R60m/T32TPT_20250404T101041_B11_60m.jp2',\n",
       " 'GRANULE/L2A_T32TPT_A051099_20250404T101510/IMG_DATA/R60m/T32TPT_20250404T101041_B12_60m.jp2',\n",
       " 'GRANULE/L2A_T32TPT_A051099_20250404T101510/IMG_DATA/R60m/T32TPT_20250404T101041_B8A_60m.jp2',\n",
       " 'GRANULE/L2A_T32TPT_A051099_20250404T101510/IMG_DATA/R60m/T32TPT_20250404T101041_SCL_60m.jp2',\n",
       " 'GRANULE/L2A_T32TPT_A051099_20250404T101510/IMG_DATA/R60m/T32TPT_20250404T101041_TCI_60m.jp2',\n",
       " 'GRANULE/L2A_T32TPT_A051099_20250404T101510/IMG_DATA/R60m/T32TPT_20250404T101041_WVP_60m.jp2',\n",
       " 'GRANULE/L2A_T32TPT_A051099_20250404T101510/MTD_TL.xml',\n",
       " 'GRANULE/L2A_T32TPT_A051099_20250404T101510/QI_DATA/FORMAT_CORRECTNESS.xml',\n",
       " 'GRANULE/L2A_T32TPT_A051099_20250404T101510/QI_DATA/GENERAL_QUALITY.xml',\n",
       " 'GRANULE/L2A_T32TPT_A051099_20250404T101510/QI_DATA/GEOMETRIC_QUALITY.xml',\n",
       " 'GRANULE/L2A_T32TPT_A051099_20250404T101510/QI_DATA/L2A_QUALITY.xml',\n",
       " 'GRANULE/L2A_T32TPT_A051099_20250404T101510/QI_DATA/MSK_CLASSI_B00.jp2',\n",
       " 'GRANULE/L2A_T32TPT_A051099_20250404T101510/QI_DATA/MSK_CLDPRB_20m.jp2',\n",
       " 'GRANULE/L2A_T32TPT_A051099_20250404T101510/QI_DATA/MSK_CLDPRB_60m.jp2',\n",
       " 'GRANULE/L2A_T32TPT_A051099_20250404T101510/QI_DATA/MSK_DETFOO_B01.jp2',\n",
       " 'GRANULE/L2A_T32TPT_A051099_20250404T101510/QI_DATA/MSK_DETFOO_B02.jp2',\n",
       " 'GRANULE/L2A_T32TPT_A051099_20250404T101510/QI_DATA/MSK_DETFOO_B03.jp2',\n",
       " 'GRANULE/L2A_T32TPT_A051099_20250404T101510/QI_DATA/MSK_DETFOO_B04.jp2',\n",
       " 'GRANULE/L2A_T32TPT_A051099_20250404T101510/QI_DATA/MSK_DETFOO_B05.jp2',\n",
       " 'GRANULE/L2A_T32TPT_A051099_20250404T101510/QI_DATA/MSK_DETFOO_B06.jp2',\n",
       " 'GRANULE/L2A_T32TPT_A051099_20250404T101510/QI_DATA/MSK_DETFOO_B07.jp2',\n",
       " 'GRANULE/L2A_T32TPT_A051099_20250404T101510/QI_DATA/MSK_DETFOO_B08.jp2',\n",
       " 'GRANULE/L2A_T32TPT_A051099_20250404T101510/QI_DATA/MSK_DETFOO_B09.jp2',\n",
       " 'GRANULE/L2A_T32TPT_A051099_20250404T101510/QI_DATA/MSK_DETFOO_B10.jp2',\n",
       " 'GRANULE/L2A_T32TPT_A051099_20250404T101510/QI_DATA/MSK_DETFOO_B11.jp2',\n",
       " 'GRANULE/L2A_T32TPT_A051099_20250404T101510/QI_DATA/MSK_DETFOO_B12.jp2',\n",
       " 'GRANULE/L2A_T32TPT_A051099_20250404T101510/QI_DATA/MSK_DETFOO_B8A.jp2',\n",
       " 'GRANULE/L2A_T32TPT_A051099_20250404T101510/QI_DATA/MSK_QUALIT_B01.jp2',\n",
       " 'GRANULE/L2A_T32TPT_A051099_20250404T101510/QI_DATA/MSK_QUALIT_B02.jp2',\n",
       " 'GRANULE/L2A_T32TPT_A051099_20250404T101510/QI_DATA/MSK_QUALIT_B03.jp2',\n",
       " 'GRANULE/L2A_T32TPT_A051099_20250404T101510/QI_DATA/MSK_QUALIT_B04.jp2',\n",
       " 'GRANULE/L2A_T32TPT_A051099_20250404T101510/QI_DATA/MSK_QUALIT_B05.jp2',\n",
       " 'GRANULE/L2A_T32TPT_A051099_20250404T101510/QI_DATA/MSK_QUALIT_B06.jp2',\n",
       " 'GRANULE/L2A_T32TPT_A051099_20250404T101510/QI_DATA/MSK_QUALIT_B07.jp2',\n",
       " 'GRANULE/L2A_T32TPT_A051099_20250404T101510/QI_DATA/MSK_QUALIT_B08.jp2',\n",
       " 'GRANULE/L2A_T32TPT_A051099_20250404T101510/QI_DATA/MSK_QUALIT_B09.jp2',\n",
       " 'GRANULE/L2A_T32TPT_A051099_20250404T101510/QI_DATA/MSK_QUALIT_B10.jp2',\n",
       " 'GRANULE/L2A_T32TPT_A051099_20250404T101510/QI_DATA/MSK_QUALIT_B11.jp2',\n",
       " 'GRANULE/L2A_T32TPT_A051099_20250404T101510/QI_DATA/MSK_QUALIT_B12.jp2',\n",
       " 'GRANULE/L2A_T32TPT_A051099_20250404T101510/QI_DATA/MSK_QUALIT_B8A.jp2',\n",
       " 'GRANULE/L2A_T32TPT_A051099_20250404T101510/QI_DATA/MSK_SNWPRB_20m.jp2',\n",
       " 'GRANULE/L2A_T32TPT_A051099_20250404T101510/QI_DATA/MSK_SNWPRB_60m.jp2',\n",
       " 'GRANULE/L2A_T32TPT_A051099_20250404T101510/QI_DATA/SENSOR_QUALITY.xml',\n",
       " 'GRANULE/L2A_T32TPT_A051099_20250404T101510/QI_DATA/T32TPT_20250404T101041_PVI.jp2',\n",
       " 'HTML/UserProduct_index.html',\n",
       " 'HTML/UserProduct_index.xsl',\n",
       " 'HTML/banner_1.png',\n",
       " 'HTML/banner_2.png',\n",
       " 'HTML/banner_3.png',\n",
       " 'HTML/star_bg.jpg',\n",
       " 'INSPIRE.xml',\n",
       " 'MTD_MSIL2A.xml',\n",
       " 'S2A_MSIL2A_20250404T101041_N0511_R022_T32TPT_20250404T184313-ql.jpg',\n",
       " 'manifest.safe',\n",
       " 'rep_info/S2_PDI_Level-2A_Datastrip_Metadata.xsd',\n",
       " 'rep_info/S2_PDI_Level-2A_Tile_Metadata.xsd',\n",
       " 'rep_info/S2_User_Product_Level-2A_Metadata.xsd']"
      ]
     },
     "execution_count": 3,
     "metadata": {},
     "output_type": "execute_result"
    }
   ],
   "source": [
    "from tilebox.storage import CopernicusStorageClient\n",
    "import os\n",
    "\n",
    "storage_client = CopernicusStorageClient(access_key=os.getenv(\"COPERNICUS_ACCESS_KEY\"), secret_access_key=os.getenv(\"COPERNICUS_SECRET_ACCESS_KEY\"))\n",
    "objects = storage_client.list_objects(data.isel(time=0))\n",
    "objects\n"
   ]
  },
  {
   "cell_type": "code",
   "execution_count": 9,
   "metadata": {},
   "outputs": [
    {
     "data": {
      "application/vnd.jupyter.widget-view+json": {
       "model_id": "ef19eeca53ed4db483fab36274588394",
       "version_major": 2,
       "version_minor": 0
      },
      "text/plain": [
       "GRANULE/L2A_T32TPT_A051099_20250404T101510/IMG_DATA/R10m/T32TPT_20250404T101041_B02_10m.jp2:   0%|          | …"
      ]
     },
     "metadata": {},
     "output_type": "display_data"
    },
    {
     "data": {
      "application/vnd.jupyter.widget-view+json": {
       "model_id": "1aefb59c1cc642eda4f2326bfbd1bc47",
       "version_major": 2,
       "version_minor": 0
      },
      "text/plain": [
       "GRANULE/L2A_T32TPT_A051099_20250404T101510/IMG_DATA/R10m/T32TPT_20250404T101041_B03_10m.jp2:   0%|          | …"
      ]
     },
     "metadata": {},
     "output_type": "display_data"
    },
    {
     "data": {
      "application/vnd.jupyter.widget-view+json": {
       "model_id": "b69bffd4403d47818045fedda9e0481f",
       "version_major": 2,
       "version_minor": 0
      },
      "text/plain": [
       "GRANULE/L2A_T32TPT_A051099_20250404T101510/IMG_DATA/R10m/T32TPT_20250404T101041_B04_10m.jp2:   0%|          | …"
      ]
     },
     "metadata": {},
     "output_type": "display_data"
    },
    {
     "data": {
      "text/plain": [
       "PosixPath('downloads/Sentinel-2/MSI/L2A/2025/04/04/S2A_MSIL2A_20250404T101041_N0511_R022_T32TPT_20250404T184313.SAFE')"
      ]
     },
     "execution_count": 9,
     "metadata": {},
     "output_type": "execute_result"
    }
   ],
   "source": [
    "storage_client.download_objects(data.isel(time=0), objects=[o for o in objects if (\"B02_10m\" in o) or (\"B03_10m\" in o) or (\"B04_10m\" in o)], output_dir='downloads')\n"
   ]
  },
  {
   "cell_type": "code",
   "execution_count": 13,
   "metadata": {},
   "outputs": [],
   "source": [
    "import rioxarray\n",
    "\n",
    "b02 = rioxarray.open_rasterio('./downloads/Sentinel-2/MSI/L2A/2025/04/04/S2A_MSIL2A_20250404T101041_N0511_R022_T32TPT_20250404T184313.SAFE/GRANULE/L2A_T32TPT_A051099_20250404T101510/IMG_DATA/R10m/T32TPT_20250404T101041_B02_10m.jp2')\n",
    "b03 = rioxarray.open_rasterio('./downloads/Sentinel-2/MSI/L2A/2025/04/04/S2A_MSIL2A_20250404T101041_N0511_R022_T32TPT_20250404T184313.SAFE/GRANULE/L2A_T32TPT_A051099_20250404T101510/IMG_DATA/R10m/T32TPT_20250404T101041_B03_10m.jp2')\n",
    "b04 = rioxarray.open_rasterio('./downloads/Sentinel-2/MSI/L2A/2025/04/04/S2A_MSIL2A_20250404T101041_N0511_R022_T32TPT_20250404T184313.SAFE/GRANULE/L2A_T32TPT_A051099_20250404T101510/IMG_DATA/R10m/T32TPT_20250404T101041_B04_10m.jp2')\n"
   ]
  },
  {
   "cell_type": "code",
   "execution_count": 16,
   "metadata": {},
   "outputs": [],
   "source": [
    "import xarray as xr\n",
    "\n",
    "rgb_array = xr.concat([b04, b03, b02], dim='band')\n",
    "rgb_array.rio.write_crs(b04.rio.crs, inplace=True)\n",
    "output_file = \"sentinel2_rgb.tif\"\n",
    "rgb_array.rio.to_raster(output_file)"
   ]
  },
  {
   "cell_type": "markdown",
   "metadata": {},
   "source": [
    "### Custom datasets\n",
    "\n",
    "Two types:\n",
    "- time-series\n",
    "- spatio-temporal\n",
    "\n",
    "Can use this for\n",
    "- auxiliary sensor data (weather stations, aeronet data, etc.)\n",
    "- cataloging metadata (storing intermediate or final data products)\n",
    "\n",
    "How to:\n",
    "1. Define the data type at https://console.tilebox.com/datasets/my-datasets/create\n",
    "2. Ingest the data (see https://docs.tilebox.com/guides/datasets/ingest#ingesting-data)\n",
    "3. Query the data in the way you are used to with Open Data, typed and performant"
   ]
  },
  {
   "cell_type": "code",
   "execution_count": null,
   "metadata": {},
   "outputs": [],
   "source": []
  }
 ],
 "metadata": {
  "kernelspec": {
   "display_name": ".venv",
   "language": "python",
   "name": "python3"
  },
  "language_info": {
   "codemirror_mode": {
    "name": "ipython",
    "version": 3
   },
   "file_extension": ".py",
   "mimetype": "text/x-python",
   "name": "python",
   "nbconvert_exporter": "python",
   "pygments_lexer": "ipython3",
   "version": "3.13.1"
  }
 },
 "nbformat": 4,
 "nbformat_minor": 2
}
